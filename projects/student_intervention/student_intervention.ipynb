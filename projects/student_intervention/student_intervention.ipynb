{
 "cells": [
  {
   "cell_type": "markdown",
   "metadata": {},
   "source": [
    "# Machine Learning Engineer Nanodegree\n",
    "## Supervised Learning\n",
    "## Project 2: Building a Student Intervention System"
   ]
  },
  {
   "cell_type": "markdown",
   "metadata": {},
   "source": [
    "Welcome to the second project of the Machine Learning Engineer Nanodegree! In this notebook, some template code has already been provided for you, and it will be your job to implement the additional functionality necessary to successfully complete this project. Sections that begin with **'Implementation'** in the header indicate that the following block of code will require additional functionality which you must provide. Instructions will be provided for each section and the specifics of the implementation are marked in the code block with a `'TODO'` statement. Please be sure to read the instructions carefully!\n",
    "\n",
    "In addition to implementing code, there will be questions that you must answer which relate to the project and your implementation. Each section where you will answer a question is preceded by a **'Question X'** header. Carefully read each question and provide thorough answers in the following text boxes that begin with **'Answer:'**. Your project submission will be evaluated based on your answers to each of the questions and the implementation you provide.  \n",
    "\n",
    ">**Note:** Code and Markdown cells can be executed using the **Shift + Enter** keyboard shortcut. In addition, Markdown cells can be edited by typically double-clicking the cell to enter edit mode."
   ]
  },
  {
   "cell_type": "markdown",
   "metadata": {},
   "source": [
    "### Question 1 - Classification vs. Regression\n",
    "*Your goal for this project is to identify students who might need early intervention before they fail to graduate. Which type of supervised learning problem is this, classification or regression? Why?*"
   ]
  },
  {
   "cell_type": "markdown",
   "metadata": {},
   "source": [
    "**Answer: **\n",
    "\n",
    "This is a classification problem because students will be identified as \"in need of early intervention\" or not, which is a binary classification. This could be approached as a regression problem, where each student would be given a score (maybe from one to 100) to quantify their risk of failing to graduate. However, since the outcome of interest is binary (intervention or not) and a regression score would only be used to determine a binary outcome, a classification approach makes more sense."
   ]
  },
  {
   "cell_type": "markdown",
   "metadata": {},
   "source": [
    "## Exploring the Data\n",
    "Run the code cell below to load necessary Python libraries and load the student data. Note that the last column from this dataset, `'passed'`, will be our target label (whether the student graduated or didn't graduate). All other columns are features about each student."
   ]
  },
  {
   "cell_type": "code",
   "execution_count": 66,
   "metadata": {
    "collapsed": false
   },
   "outputs": [
    {
     "name": "stdout",
     "output_type": "stream",
     "text": [
      "Student data read successfully!\n"
     ]
    }
   ],
   "source": [
    "# Import libraries\n",
    "import numpy as np\n",
    "import pandas as pd\n",
    "from time import time\n",
    "from sklearn.metrics import f1_score\n",
    "\n",
    "# Read student data\n",
    "student_data = pd.read_csv(\"student-data.csv\")\n",
    "print \"Student data read successfully!\""
   ]
  },
  {
   "cell_type": "markdown",
   "metadata": {},
   "source": [
    "### Implementation: Data Exploration\n",
    "Let's begin by investigating the dataset to determine how many students we have information on, and learn about the graduation rate among these students. In the code cell below, you will need to compute the following:\n",
    "- The total number of students, `n_students`.\n",
    "- The total number of features for each student, `n_features`.\n",
    "- The number of those students who passed, `n_passed`.\n",
    "- The number of those students who failed, `n_failed`.\n",
    "- The graduation rate of the class, `grad_rate`, in percent (%).\n"
   ]
  },
  {
   "cell_type": "code",
   "execution_count": 67,
   "metadata": {
    "collapsed": false
   },
   "outputs": [
    {
     "name": "stdout",
     "output_type": "stream",
     "text": [
      "Total number of students: 395\n",
      "Number of features: 31\n",
      "Number of students who passed: 265\n",
      "Number of students who failed: 130\n",
      "Graduation rate of the class: 0.67%\n"
     ]
    }
   ],
   "source": [
    "# TODO: Calculate number of students\n",
    "n_students = student_data.shape[0]\n",
    "\n",
    "# TODO: Calculate number of features\n",
    "n_features = student_data.shape[1]\n",
    "\n",
    "# TODO: Calculate passing students\n",
    "n_passed = (student_data.loc[:,['passed']]=='yes').sum()[0]\n",
    "\n",
    "# TODO: Calculate failing students\n",
    "n_failed = (student_data.loc[:,['passed']]=='no').sum()[0]\n",
    "\n",
    "# TODO: Calculate graduation rate\n",
    "grad_rate = (student_data.loc[:,['passed']]=='yes').mean()[0]\n",
    "\n",
    "# Print the results\n",
    "print \"Total number of students: {}\".format(n_students)\n",
    "print \"Number of features: {}\".format(n_features)\n",
    "print \"Number of students who passed: {}\".format(n_passed)\n",
    "print \"Number of students who failed: {}\".format(n_failed)\n",
    "print \"Graduation rate of the class: {:.2f}%\".format(grad_rate)"
   ]
  },
  {
   "cell_type": "markdown",
   "metadata": {},
   "source": [
    "## Preparing the Data\n",
    "In this section, we will prepare the data for modeling, training and testing.\n",
    "\n",
    "### Identify feature and target columns\n",
    "It is often the case that the data you obtain contains non-numeric features. This can be a problem, as most machine learning algorithms expect numeric data to perform computations with.\n",
    "\n",
    "Run the code cell below to separate the student data into feature and target columns to see if any features are non-numeric."
   ]
  },
  {
   "cell_type": "code",
   "execution_count": 68,
   "metadata": {
    "collapsed": false
   },
   "outputs": [
    {
     "name": "stdout",
     "output_type": "stream",
     "text": [
      "Feature columns:\n",
      "['school', 'sex', 'age', 'address', 'famsize', 'Pstatus', 'Medu', 'Fedu', 'Mjob', 'Fjob', 'reason', 'guardian', 'traveltime', 'studytime', 'failures', 'schoolsup', 'famsup', 'paid', 'activities', 'nursery', 'higher', 'internet', 'romantic', 'famrel', 'freetime', 'goout', 'Dalc', 'Walc', 'health', 'absences']\n",
      "\n",
      "Target column: passed\n",
      "\n",
      "Feature values:\n",
      "  school sex  age address famsize Pstatus  Medu  Fedu     Mjob      Fjob  \\\n",
      "0     GP   F   18       U     GT3       A     4     4  at_home   teacher   \n",
      "1     GP   F   17       U     GT3       T     1     1  at_home     other   \n",
      "2     GP   F   15       U     LE3       T     1     1  at_home     other   \n",
      "3     GP   F   15       U     GT3       T     4     2   health  services   \n",
      "4     GP   F   16       U     GT3       T     3     3    other     other   \n",
      "\n",
      "    ...    higher internet  romantic  famrel  freetime goout Dalc Walc health  \\\n",
      "0   ...       yes       no        no       4         3     4    1    1      3   \n",
      "1   ...       yes      yes        no       5         3     3    1    1      3   \n",
      "2   ...       yes      yes        no       4         3     2    2    3      3   \n",
      "3   ...       yes      yes       yes       3         2     2    1    1      5   \n",
      "4   ...       yes       no        no       4         3     2    1    2      5   \n",
      "\n",
      "  absences  \n",
      "0        6  \n",
      "1        4  \n",
      "2       10  \n",
      "3        2  \n",
      "4        4  \n",
      "\n",
      "[5 rows x 30 columns]\n"
     ]
    }
   ],
   "source": [
    "# Extract feature columns\n",
    "feature_cols = list(student_data.columns[:-1])\n",
    "\n",
    "# Extract target column 'passed'\n",
    "target_col = student_data.columns[-1] \n",
    "\n",
    "# Show the list of columns\n",
    "print \"Feature columns:\\n{}\".format(feature_cols)\n",
    "print \"\\nTarget column: {}\".format(target_col)\n",
    "\n",
    "# Separate the data into feature data and target data (X_all and y_all, respectively)\n",
    "X_all = student_data[feature_cols]\n",
    "y_all = student_data[target_col]\n",
    "\n",
    "# Show the feature information by printing the first five rows\n",
    "print \"\\nFeature values:\"\n",
    "print X_all.head()"
   ]
  },
  {
   "cell_type": "markdown",
   "metadata": {},
   "source": [
    "### Preprocess Feature Columns\n",
    "\n",
    "As you can see, there are several non-numeric columns that need to be converted! Many of them are simply `yes`/`no`, e.g. `internet`. These can be reasonably converted into `1`/`0` (binary) values.\n",
    "\n",
    "Other columns, like `Mjob` and `Fjob`, have more than two values, and are known as _categorical variables_. The recommended way to handle such a column is to create as many columns as possible values (e.g. `Fjob_teacher`, `Fjob_other`, `Fjob_services`, etc.), and assign a `1` to one of them and `0` to all others.\n",
    "\n",
    "These generated columns are sometimes called _dummy variables_, and we will use the [`pandas.get_dummies()`](http://pandas.pydata.org/pandas-docs/stable/generated/pandas.get_dummies.html?highlight=get_dummies#pandas.get_dummies) function to perform this transformation. Run the code cell below to perform the preprocessing routine discussed in this section."
   ]
  },
  {
   "cell_type": "code",
   "execution_count": 69,
   "metadata": {
    "collapsed": false
   },
   "outputs": [
    {
     "name": "stdout",
     "output_type": "stream",
     "text": [
      "<bound method DataFrame.head of      school_GP  school_MS  sex_F  sex_M  age  address_R  address_U  \\\n",
      "0          1.0        0.0    1.0    0.0   18        0.0        1.0   \n",
      "1          1.0        0.0    1.0    0.0   17        0.0        1.0   \n",
      "2          1.0        0.0    1.0    0.0   15        0.0        1.0   \n",
      "3          1.0        0.0    1.0    0.0   15        0.0        1.0   \n",
      "4          1.0        0.0    1.0    0.0   16        0.0        1.0   \n",
      "5          1.0        0.0    0.0    1.0   16        0.0        1.0   \n",
      "6          1.0        0.0    0.0    1.0   16        0.0        1.0   \n",
      "7          1.0        0.0    1.0    0.0   17        0.0        1.0   \n",
      "8          1.0        0.0    0.0    1.0   15        0.0        1.0   \n",
      "9          1.0        0.0    0.0    1.0   15        0.0        1.0   \n",
      "10         1.0        0.0    1.0    0.0   15        0.0        1.0   \n",
      "11         1.0        0.0    1.0    0.0   15        0.0        1.0   \n",
      "12         1.0        0.0    0.0    1.0   15        0.0        1.0   \n",
      "13         1.0        0.0    0.0    1.0   15        0.0        1.0   \n",
      "14         1.0        0.0    0.0    1.0   15        0.0        1.0   \n",
      "15         1.0        0.0    1.0    0.0   16        0.0        1.0   \n",
      "16         1.0        0.0    1.0    0.0   16        0.0        1.0   \n",
      "17         1.0        0.0    1.0    0.0   16        0.0        1.0   \n",
      "18         1.0        0.0    0.0    1.0   17        0.0        1.0   \n",
      "19         1.0        0.0    0.0    1.0   16        0.0        1.0   \n",
      "20         1.0        0.0    0.0    1.0   15        0.0        1.0   \n",
      "21         1.0        0.0    0.0    1.0   15        0.0        1.0   \n",
      "22         1.0        0.0    0.0    1.0   16        0.0        1.0   \n",
      "23         1.0        0.0    0.0    1.0   16        0.0        1.0   \n",
      "24         1.0        0.0    1.0    0.0   15        1.0        0.0   \n",
      "25         1.0        0.0    1.0    0.0   16        0.0        1.0   \n",
      "26         1.0        0.0    0.0    1.0   15        0.0        1.0   \n",
      "27         1.0        0.0    0.0    1.0   15        0.0        1.0   \n",
      "28         1.0        0.0    0.0    1.0   16        0.0        1.0   \n",
      "29         1.0        0.0    0.0    1.0   16        0.0        1.0   \n",
      "..         ...        ...    ...    ...  ...        ...        ...   \n",
      "365        0.0        1.0    0.0    1.0   18        1.0        0.0   \n",
      "366        0.0        1.0    0.0    1.0   18        0.0        1.0   \n",
      "367        0.0        1.0    1.0    0.0   17        1.0        0.0   \n",
      "368        0.0        1.0    1.0    0.0   18        0.0        1.0   \n",
      "369        0.0        1.0    1.0    0.0   18        1.0        0.0   \n",
      "370        0.0        1.0    1.0    0.0   19        0.0        1.0   \n",
      "371        0.0        1.0    0.0    1.0   18        1.0        0.0   \n",
      "372        0.0        1.0    1.0    0.0   17        0.0        1.0   \n",
      "373        0.0        1.0    1.0    0.0   17        1.0        0.0   \n",
      "374        0.0        1.0    1.0    0.0   18        1.0        0.0   \n",
      "375        0.0        1.0    1.0    0.0   18        1.0        0.0   \n",
      "376        0.0        1.0    1.0    0.0   20        0.0        1.0   \n",
      "377        0.0        1.0    1.0    0.0   18        1.0        0.0   \n",
      "378        0.0        1.0    1.0    0.0   18        0.0        1.0   \n",
      "379        0.0        1.0    1.0    0.0   17        1.0        0.0   \n",
      "380        0.0        1.0    0.0    1.0   18        0.0        1.0   \n",
      "381        0.0        1.0    0.0    1.0   18        1.0        0.0   \n",
      "382        0.0        1.0    0.0    1.0   17        0.0        1.0   \n",
      "383        0.0        1.0    0.0    1.0   19        1.0        0.0   \n",
      "384        0.0        1.0    0.0    1.0   18        1.0        0.0   \n",
      "385        0.0        1.0    1.0    0.0   18        1.0        0.0   \n",
      "386        0.0        1.0    1.0    0.0   18        1.0        0.0   \n",
      "387        0.0        1.0    1.0    0.0   19        1.0        0.0   \n",
      "388        0.0        1.0    1.0    0.0   18        0.0        1.0   \n",
      "389        0.0        1.0    1.0    0.0   18        0.0        1.0   \n",
      "390        0.0        1.0    0.0    1.0   20        0.0        1.0   \n",
      "391        0.0        1.0    0.0    1.0   17        0.0        1.0   \n",
      "392        0.0        1.0    0.0    1.0   21        1.0        0.0   \n",
      "393        0.0        1.0    0.0    1.0   18        1.0        0.0   \n",
      "394        0.0        1.0    0.0    1.0   19        0.0        1.0   \n",
      "\n",
      "     famsize_GT3  famsize_LE3  Pstatus_A    ...     higher  internet  \\\n",
      "0            1.0          0.0        1.0    ...          1         0   \n",
      "1            1.0          0.0        0.0    ...          1         1   \n",
      "2            0.0          1.0        0.0    ...          1         1   \n",
      "3            1.0          0.0        0.0    ...          1         1   \n",
      "4            1.0          0.0        0.0    ...          1         0   \n",
      "5            0.0          1.0        0.0    ...          1         1   \n",
      "6            0.0          1.0        0.0    ...          1         1   \n",
      "7            1.0          0.0        1.0    ...          1         0   \n",
      "8            0.0          1.0        1.0    ...          1         1   \n",
      "9            1.0          0.0        0.0    ...          1         1   \n",
      "10           1.0          0.0        0.0    ...          1         1   \n",
      "11           1.0          0.0        0.0    ...          1         1   \n",
      "12           0.0          1.0        0.0    ...          1         1   \n",
      "13           1.0          0.0        0.0    ...          1         1   \n",
      "14           1.0          0.0        1.0    ...          1         1   \n",
      "15           1.0          0.0        0.0    ...          1         1   \n",
      "16           1.0          0.0        0.0    ...          1         1   \n",
      "17           1.0          0.0        0.0    ...          1         0   \n",
      "18           1.0          0.0        0.0    ...          1         1   \n",
      "19           0.0          1.0        0.0    ...          1         1   \n",
      "20           1.0          0.0        0.0    ...          1         1   \n",
      "21           1.0          0.0        0.0    ...          1         1   \n",
      "22           0.0          1.0        0.0    ...          1         1   \n",
      "23           0.0          1.0        0.0    ...          1         1   \n",
      "24           1.0          0.0        0.0    ...          1         1   \n",
      "25           1.0          0.0        0.0    ...          1         1   \n",
      "26           1.0          0.0        0.0    ...          1         1   \n",
      "27           1.0          0.0        0.0    ...          1         1   \n",
      "28           0.0          1.0        1.0    ...          1         1   \n",
      "29           1.0          0.0        0.0    ...          1         1   \n",
      "..           ...          ...        ...    ...        ...       ...   \n",
      "365          1.0          0.0        0.0    ...          1         0   \n",
      "366          0.0          1.0        0.0    ...          1         1   \n",
      "367          1.0          0.0        0.0    ...          1         1   \n",
      "368          1.0          0.0        0.0    ...          1         1   \n",
      "369          1.0          0.0        0.0    ...          1         1   \n",
      "370          0.0          1.0        0.0    ...          1         0   \n",
      "371          0.0          1.0        0.0    ...          0         1   \n",
      "372          1.0          0.0        0.0    ...          1         0   \n",
      "373          1.0          0.0        0.0    ...          1         1   \n",
      "374          0.0          1.0        0.0    ...          1         1   \n",
      "375          1.0          0.0        0.0    ...          1         1   \n",
      "376          1.0          0.0        0.0    ...          1         1   \n",
      "377          0.0          1.0        0.0    ...          1         1   \n",
      "378          1.0          0.0        0.0    ...          1         1   \n",
      "379          1.0          0.0        0.0    ...          1         1   \n",
      "380          1.0          0.0        0.0    ...          1         1   \n",
      "381          1.0          0.0        0.0    ...          1         1   \n",
      "382          1.0          0.0        0.0    ...          1         1   \n",
      "383          1.0          0.0        0.0    ...          1         0   \n",
      "384          1.0          0.0        0.0    ...          1         0   \n",
      "385          1.0          0.0        0.0    ...          1         0   \n",
      "386          1.0          0.0        0.0    ...          1         1   \n",
      "387          1.0          0.0        0.0    ...          1         1   \n",
      "388          0.0          1.0        0.0    ...          1         1   \n",
      "389          1.0          0.0        0.0    ...          1         0   \n",
      "390          0.0          1.0        1.0    ...          1         0   \n",
      "391          0.0          1.0        0.0    ...          1         1   \n",
      "392          1.0          0.0        0.0    ...          1         0   \n",
      "393          0.0          1.0        0.0    ...          1         1   \n",
      "394          0.0          1.0        0.0    ...          1         1   \n",
      "\n",
      "     romantic  famrel  freetime  goout  Dalc  Walc  health  absences  \n",
      "0           0       4         3      4     1     1       3         6  \n",
      "1           0       5         3      3     1     1       3         4  \n",
      "2           0       4         3      2     2     3       3        10  \n",
      "3           1       3         2      2     1     1       5         2  \n",
      "4           0       4         3      2     1     2       5         4  \n",
      "5           0       5         4      2     1     2       5        10  \n",
      "6           0       4         4      4     1     1       3         0  \n",
      "7           0       4         1      4     1     1       1         6  \n",
      "8           0       4         2      2     1     1       1         0  \n",
      "9           0       5         5      1     1     1       5         0  \n",
      "10          0       3         3      3     1     2       2         0  \n",
      "11          0       5         2      2     1     1       4         4  \n",
      "12          0       4         3      3     1     3       5         2  \n",
      "13          0       5         4      3     1     2       3         2  \n",
      "14          1       4         5      2     1     1       3         0  \n",
      "15          0       4         4      4     1     2       2         4  \n",
      "16          0       3         2      3     1     2       2         6  \n",
      "17          0       5         3      2     1     1       4         4  \n",
      "18          0       5         5      5     2     4       5        16  \n",
      "19          0       3         1      3     1     3       5         4  \n",
      "20          0       4         4      1     1     1       1         0  \n",
      "21          0       5         4      2     1     1       5         0  \n",
      "22          0       4         5      1     1     3       5         2  \n",
      "23          0       5         4      4     2     4       5         0  \n",
      "24          0       4         3      2     1     1       5         2  \n",
      "25          0       1         2      2     1     3       5        14  \n",
      "26          0       4         2      2     1     2       5         2  \n",
      "27          0       2         2      4     2     4       1         4  \n",
      "28          0       5         3      3     1     1       5         4  \n",
      "29          1       4         4      5     5     5       5        16  \n",
      "..        ...     ...       ...    ...   ...   ...     ...       ...  \n",
      "365         0       3         3      4     2     4       3         4  \n",
      "366         1       4         2      2     2     2       5         0  \n",
      "367         1       5         2      1     1     2       1         0  \n",
      "368         1       5         2      3     1     2       4         0  \n",
      "369         1       3         2      2     4     2       5        10  \n",
      "370         1       3         2      2     1     1       3         4  \n",
      "371         1       4         3      3     2     3       3         3  \n",
      "372         1       3         4      3     1     1       3         8  \n",
      "373         0       3         5      5     1     3       1        14  \n",
      "374         0       5         4      4     1     1       1         0  \n",
      "375         0       4         3      2     1     2       4         2  \n",
      "376         1       5         4      3     1     1       3         4  \n",
      "377         0       5         4      3     3     4       2         4  \n",
      "378         1       4         1      3     1     2       1         0  \n",
      "379         0       4         5      4     2     3       1        17  \n",
      "380         0       3         2      4     1     4       2         4  \n",
      "381         1       4         4      3     1     3       5         5  \n",
      "382         0       4         4      3     1     1       3         2  \n",
      "383         0       4         3      2     1     3       5         0  \n",
      "384         0       5         4      3     4     3       3        14  \n",
      "385         0       5         3      3     1     3       4         2  \n",
      "386         1       4         4      3     2     2       5         7  \n",
      "387         0       5         4      2     1     2       5         0  \n",
      "388         0       4         3      4     1     1       1         0  \n",
      "389         0       1         1      1     1     1       5         0  \n",
      "390         0       5         5      4     4     5       4        11  \n",
      "391         0       2         4      5     3     4       2         3  \n",
      "392         0       5         5      3     3     3       3         3  \n",
      "393         0       4         4      1     3     4       5         0  \n",
      "394         0       3         2      3     3     3       5         5  \n",
      "\n",
      "[395 rows x 48 columns]>\n",
      "Processed feature columns (48 total features):\n",
      "['school_GP', 'school_MS', 'sex_F', 'sex_M', 'age', 'address_R', 'address_U', 'famsize_GT3', 'famsize_LE3', 'Pstatus_A', 'Pstatus_T', 'Medu', 'Fedu', 'Mjob_at_home', 'Mjob_health', 'Mjob_other', 'Mjob_services', 'Mjob_teacher', 'Fjob_at_home', 'Fjob_health', 'Fjob_other', 'Fjob_services', 'Fjob_teacher', 'reason_course', 'reason_home', 'reason_other', 'reason_reputation', 'guardian_father', 'guardian_mother', 'guardian_other', 'traveltime', 'studytime', 'failures', 'schoolsup', 'famsup', 'paid', 'activities', 'nursery', 'higher', 'internet', 'romantic', 'famrel', 'freetime', 'goout', 'Dalc', 'Walc', 'health', 'absences']\n"
     ]
    }
   ],
   "source": [
    "def preprocess_features(X):\n",
    "    ''' Preprocesses the student data and converts non-numeric binary variables into\n",
    "        binary (0/1) variables. Converts categorical variables into dummy variables. '''\n",
    "    \n",
    "    # Initialize new output DataFrame\n",
    "    output = pd.DataFrame(index = X.index)\n",
    "\n",
    "    # Investigate each feature column for the data\n",
    "    for col, col_data in X.iteritems():\n",
    "        \n",
    "        # If data type is non-numeric, replace all yes/no values with 1/0\n",
    "        if col_data.dtype == object:\n",
    "            col_data = col_data.replace(['yes', 'no'], [1, 0])\n",
    "\n",
    "        # If data type is categorical, convert to dummy variables\n",
    "        if col_data.dtype == object:\n",
    "            # Example: 'school' => 'school_GP' and 'school_MS'\n",
    "            col_data = pd.get_dummies(col_data, prefix = col)  \n",
    "        \n",
    "        # Collect the revised columns\n",
    "        output = output.join(col_data)\n",
    "    \n",
    "    return output\n",
    "\n",
    "X_all = preprocess_features(X_all)\n",
    "print X_all.head\n",
    "print \"Processed feature columns ({} total features):\\n{}\".format(len(X_all.columns), list(X_all.columns))"
   ]
  },
  {
   "cell_type": "markdown",
   "metadata": {},
   "source": [
    "### Implementation: Training and Testing Data Split\n",
    "So far, we have converted all _categorical_ features into numeric values. For the next step, we split the data (both features and corresponding labels) into training and test sets. In the following code cell below, you will need to implement the following:\n",
    "- Randomly shuffle and split the data (`X_all`, `y_all`) into training and testing subsets.\n",
    "  - Use 300 training points (approximately 75%) and 95 testing points (approximately 25%).\n",
    "  - Set a `random_state` for the function(s) you use, if provided.\n",
    "  - Store the results in `X_train`, `X_test`, `y_train`, and `y_test`."
   ]
  },
  {
   "cell_type": "code",
   "execution_count": 70,
   "metadata": {
    "collapsed": false
   },
   "outputs": [
    {
     "name": "stdout",
     "output_type": "stream",
     "text": [
      "Training set has 300 samples.\n",
      "Testing set has 95 samples.\n"
     ]
    }
   ],
   "source": [
    "# TODO: Import any additional functionality you may need here\n",
    "\n",
    "import numpy as np\n",
    "from sklearn.cross_validation import train_test_split\n",
    "\n",
    "\n",
    "# TODO: Set the number of training points\n",
    "num_train = 300\n",
    "\n",
    "# Set the number of testing points\n",
    "num_test = X_all.shape[0] - num_train\n",
    "\n",
    "# TODO: Shuffle and split the dataset into the number of training and testing points above\n",
    "X_train, X_test, y_train, y_test = train_test_split(X_all, y_all, test_size=num_test, train_size=num_train, random_state=0)\n",
    "\n",
    "\n",
    "\n",
    "# Show the results of the split\n",
    "print \"Training set has {} samples.\".format(X_train.shape[0])\n",
    "print \"Testing set has {} samples.\".format(X_test.shape[0])"
   ]
  },
  {
   "cell_type": "markdown",
   "metadata": {},
   "source": [
    "## Training and Evaluating Models\n",
    "In this section, you will choose 3 supervised learning models that are appropriate for this problem and available in `scikit-learn`. You will first discuss the reasoning behind choosing these three models by considering what you know about the data and each model's strengths and weaknesses. You will then fit the model to varying sizes of training data (100 data points, 200 data points, and 300 data points) and measure the F<sub>1</sub> score. You will need to produce three tables (one for each model) that shows the training set size, training time, prediction time, F<sub>1</sub> score on the training set, and F<sub>1</sub> score on the testing set.\n",
    "\n",
    "**The following supervised learning models are currently available in** [`scikit-learn`](http://scikit-learn.org/stable/supervised_learning.html) **that you may choose from:**\n",
    "- Gaussian Naive Bayes (GaussianNB)\n",
    "- Decision Trees\n",
    "- Ensemble Methods (Bagging, AdaBoost, Random Forest, Gradient Boosting)\n",
    "- K-Nearest Neighbors (KNeighbors)\n",
    "- Stochastic Gradient Descent (SGDC)\n",
    "- Support Vector Machines (SVM)\n",
    "- Logistic Regression"
   ]
  },
  {
   "cell_type": "markdown",
   "metadata": {},
   "source": [
    "### Question 2 - Model Application\n",
    "*List three supervised learning models that are appropriate for this problem. For each model chosen*\n",
    "- Describe one real-world application in industry where the model can be applied. *(You may need to do a small bit of research for this — give references!)* \n",
    "- What are the strengths of the model; when does it perform well? \n",
    "- What are the weaknesses of the model; when does it perform poorly?\n",
    "- What makes this model a good candidate for the problem, given what you know about the data?"
   ]
  },
  {
   "cell_type": "markdown",
   "metadata": {},
   "source": [
    "**Answer: **\n",
    "\n",
    "## Support Vector Machines (SVM)\n",
    "\n",
    "### Industry appliction: \n",
    "A study published in PNAS this year described the use of SVMs to predict the pathologic potential of different strains of E. coli isolated from cows using genomic data. /n\n",
    "### Strengths: \n",
    "SVMs, when combined with the kernel trick, are great at modeling data that is not linearly separable. The kernel trick provides a wide range of functions to model complex relationships. /n\n",
    "### Weaknesses: \n",
    "The use of the kernel trick to separate non-linear data can make it difficult to interpret the inner workings of the algorithm. In other words, SVMs can be somewhat of a black box, whereas other algorithms, like decision trees, are easier to interpret and to follow the reasoning behind a given classification. SVM could also be overkill if the underlying function turns out to have relatively low dimensionality. Training time can be much longer with SVMs if using non-linear kernels.\n",
    "### Why SVM?: \n",
    "SVM would work well in this case because they offer more flexibility via kernels, and we don't have to worry about long training times because the data set is relatively small. \n",
    "\n",
    "## Decision Trees\n",
    "\n",
    "### Industry application:\n",
    "A recent paper described the use of decision trees to classify websites as 'malicious' or not.\n",
    "### Strengths:\n",
    "Decision trees implicitly perform feature selection, can capture non-linear relationships, require little data scrubbing, and they are easy to interpret, diagram, and explain. \n",
    "### Weaknesses:\n",
    "They often overfit and they aren't 'smooth' (i.e. they don't draw smooth borders between data points, like SVM + kernels do).\n",
    "### Why decision trees?:\n",
    "This is likely a relatively simple problem that could be captured well by decision trees, and the result will be easy to interpret. \n",
    "\n",
    "\n",
    "## Gaussian Naive Bayes (GaussianNB)\n",
    "\n",
    "### Industry application:\n",
    "A recent paper in the journal of Clinical Neuroscience described the use of naive bayes to identify evidence of stroke on MRI scans.\n",
    "### Strengths:\n",
    "Simple. NB is great at accounting for 'blurry' lines in the data (i.e. data that is not easily separable linearly or non-linearly). \n",
    "### Weaknesses:\n",
    "Can't learn interactions between features.\n",
    "### Why NB?:\n",
    "NB would be a simple and easy solution to the problem that could be easily implemented with a short run time.\n",
    "\n",
    "\n",
    "### References:\n",
    "* Lupolova, Nadejda, et al. \"Support vector machine applied to predict the zoonotic potential of E. coli O157 cattle isolates.\" Proceedings of the National Academy of Sciences 113.40 (2016): 11312-11317.\n",
    "* Mašetic, Zerina, Abdulhamit Subasi, and Jasmin Azemovic. \"Malicious Web Sites Detection using C4. 5 Decision Tree.\" Southeast Europe Journal of Soft Computing 5.1 (2016).\n",
    "* Griffis, Joseph C., Jane B. Allendorfer, and Jerzy P. Szaflarski. \"Voxel-based Gaussian naïve Bayes classification of ischemic stroke lesions in individual T1-weighted MRI scans.\" Journal of neuroscience methods 257 (2016): 97-108.\n",
    "* http://blog.echen.me/2011/04/27/choosing-a-machine-learning-classifier/\n",
    "* http://www.yaksis.com/posts/why-use-svm.html\n",
    "* http://www.simafore.com/blog/bid/62333/4-key-advantages-of-using-decision-trees-for-predictive-analytics\n",
    "\n",
    "\n"
   ]
  },
  {
   "cell_type": "markdown",
   "metadata": {},
   "source": [
    "### Setup\n",
    "Run the code cell below to initialize three helper functions which you can use for training and testing the three supervised learning models you've chosen above. The functions are as follows:\n",
    "- `train_classifier` - takes as input a classifier and training data and fits the classifier to the data.\n",
    "- `predict_labels` - takes as input a fit classifier, features, and a target labeling and makes predictions using the F<sub>1</sub> score.\n",
    "- `train_predict` - takes as input a classifier, and the training and testing data, and performs `train_clasifier` and `predict_labels`.\n",
    " - This function will report the F<sub>1</sub> score for both the training and testing data separately."
   ]
  },
  {
   "cell_type": "code",
   "execution_count": 71,
   "metadata": {
    "collapsed": false
   },
   "outputs": [],
   "source": [
    "def train_classifier(clf, X_train, y_train):\n",
    "    ''' Fits a classifier to the training data. '''\n",
    "    \n",
    "    # Start the clock, train the classifier, then stop the clock\n",
    "    start = time()\n",
    "    clf.fit(X_train, y_train)\n",
    "    end = time()\n",
    "    \n",
    "    # Print the results\n",
    "    print \"Trained model in {:.4f} seconds\".format(end - start)\n",
    "\n",
    "    \n",
    "def predict_labels(clf, features, target):\n",
    "    ''' Makes predictions using a fit classifier based on F1 score. '''\n",
    "    \n",
    "    # Start the clock, make predictions, then stop the clock\n",
    "    start = time()\n",
    "    y_pred = clf.predict(features)\n",
    "    end = time()\n",
    "    \n",
    "    # Print and return results\n",
    "    print \"Made predictions in {:.4f} seconds.\".format(end - start)\n",
    "    return f1_score(target.values, y_pred, pos_label='yes')\n",
    "\n",
    "\n",
    "def train_predict(clf, X_train, y_train, X_test, y_test):\n",
    "    ''' Train and predict using a classifer based on F1 score. '''\n",
    "    \n",
    "    # Indicate the classifier and the training set size\n",
    "    print \"Training a {} using a training set size of {}. . .\".format(clf.__class__.__name__, len(X_train))\n",
    "    \n",
    "    # Train the classifier\n",
    "    train_classifier(clf, X_train, y_train)\n",
    "    \n",
    "    # Print the results of prediction for both training and testing\n",
    "    print \"F1 score for training set: {:.4f}.\".format(predict_labels(clf, X_train, y_train))\n",
    "    print \"F1 score for test set: {:.4f}.\".format(predict_labels(clf, X_test, y_test))"
   ]
  },
  {
   "cell_type": "markdown",
   "metadata": {},
   "source": [
    "### Implementation: Model Performance Metrics\n",
    "With the predefined functions above, you will now import the three supervised learning models of your choice and run the `train_predict` function for each one. Remember that you will need to train and predict on each classifier for three different training set sizes: 100, 200, and 300. Hence, you should expect to have 9 different outputs below — 3 for each model using the varying training set sizes. In the following code cell, you will need to implement the following:\n",
    "- Import the three supervised learning models you've discussed in the previous section.\n",
    "- Initialize the three models and store them in `clf_A`, `clf_B`, and `clf_C`.\n",
    " - Use a `random_state` for each model you use, if provided.\n",
    " - **Note:** Use the default settings for each model — you will tune one specific model in a later section.\n",
    "- Create the different training set sizes to be used to train each model.\n",
    " - *Do not reshuffle and resplit the data! The new training points should be drawn from `X_train` and `y_train`.*\n",
    "- Fit each model with each training set size and make predictions on the test set (9 in total).  \n",
    "**Note:** Three tables are provided after the following code cell which can be used to store your results."
   ]
  },
  {
   "cell_type": "code",
   "execution_count": 72,
   "metadata": {
    "collapsed": false
   },
   "outputs": [
    {
     "name": "stdout",
     "output_type": "stream",
     "text": [
      "Training a SVC using a training set size of 100. . .\n",
      "Trained model in 0.0015 seconds\n",
      "Made predictions in 0.0008 seconds.\n",
      "F1 score for training set: 0.8591.\n",
      "Made predictions in 0.0008 seconds.\n",
      "F1 score for test set: 0.7838.\n",
      "Training a SVC using a training set size of 200. . .\n",
      "Trained model in 0.0038 seconds\n",
      "Made predictions in 0.0027 seconds.\n",
      "F1 score for training set: 0.8693.\n",
      "Made predictions in 0.0013 seconds.\n",
      "F1 score for test set: 0.7755.\n",
      "Training a SVC using a training set size of 300. . .\n",
      "Trained model in 0.0077 seconds\n",
      "Made predictions in 0.0055 seconds.\n",
      "F1 score for training set: 0.8692.\n",
      "Made predictions in 0.0017 seconds.\n",
      "F1 score for test set: 0.7586.\n",
      "Training a DecisionTreeClassifier using a training set size of 100. . .\n",
      "Trained model in 0.0009 seconds\n",
      "Made predictions in 0.0002 seconds.\n",
      "F1 score for training set: 1.0000.\n",
      "Made predictions in 0.0002 seconds.\n",
      "F1 score for test set: 0.6942.\n",
      "Training a DecisionTreeClassifier using a training set size of 200. . .\n",
      "Trained model in 0.0015 seconds\n",
      "Made predictions in 0.0002 seconds.\n",
      "F1 score for training set: 1.0000.\n",
      "Made predictions in 0.0002 seconds.\n",
      "F1 score for test set: 0.7231.\n",
      "Training a DecisionTreeClassifier using a training set size of 300. . .\n",
      "Trained model in 0.0022 seconds\n",
      "Made predictions in 0.0004 seconds.\n",
      "F1 score for training set: 1.0000.\n",
      "Made predictions in 0.0002 seconds.\n",
      "F1 score for test set: 0.6842.\n",
      "Training a GaussianNB using a training set size of 100. . .\n",
      "Trained model in 0.0006 seconds\n",
      "Made predictions in 0.0003 seconds.\n",
      "F1 score for training set: 0.8550.\n",
      "Made predictions in 0.0003 seconds.\n",
      "F1 score for test set: 0.7481.\n",
      "Training a GaussianNB using a training set size of 200. . .\n",
      "Trained model in 0.0007 seconds\n",
      "Made predictions in 0.0003 seconds.\n",
      "F1 score for training set: 0.8321.\n",
      "Made predictions in 0.0003 seconds.\n",
      "F1 score for test set: 0.7132.\n",
      "Training a GaussianNB using a training set size of 300. . .\n",
      "Trained model in 0.0008 seconds\n",
      "Made predictions in 0.0005 seconds.\n",
      "F1 score for training set: 0.8088.\n",
      "Made predictions in 0.0003 seconds.\n",
      "F1 score for test set: 0.7500.\n"
     ]
    }
   ],
   "source": [
    "# TODO: Import the three supervised learning models from sklearn\n",
    "\n",
    "import numpy as np\n",
    "from sklearn.svm import SVC\n",
    "from sklearn import tree\n",
    "from sklearn.naive_bayes import GaussianNB\n",
    "\n",
    "# TODO: Initialize the three models\n",
    "clf_A = SVC()\n",
    "clf_B = tree.DecisionTreeClassifier()\n",
    "clf_C = GaussianNB()\n",
    "\n",
    "clfs = [clf_A, clf_B , clf_C]\n",
    "\n",
    "# TODO: Set up the training set sizes\n",
    "X_train_100 = X_train.iloc[0:100,]\n",
    "y_train_100 = y_train.iloc[0:100,]\n",
    "\n",
    "X_train_200 = X_train.iloc[0:200,]\n",
    "y_train_200 = y_train.iloc[0:200,]\n",
    "\n",
    "X_train_300 = X_train\n",
    "y_train_300 = y_train\n",
    "\n",
    "# TODO: Execute the 'train_predict' function for each classifier and each training set size\n",
    "# train_predict(clf, X_train, y_train, X_test, y_test)\n",
    " \n",
    "train_predict(clf_A, X_train_100, y_train_100, X_test, y_test)\n",
    "train_predict(clf_A, X_train_200, y_train_200, X_test, y_test)\n",
    "train_predict(clf_A, X_train_300, y_train_300, X_test, y_test)\n",
    "\n",
    "train_predict(clf_B, X_train_100, y_train_100, X_test, y_test)\n",
    "train_predict(clf_B, X_train_200, y_train_200, X_test, y_test)\n",
    "train_predict(clf_B, X_train_300, y_train_300, X_test, y_test)\n",
    "    \n",
    "train_predict(clf_C, X_train_100, y_train_100, X_test, y_test)\n",
    "train_predict(clf_C, X_train_200, y_train_200, X_test, y_test)\n",
    "train_predict(clf_C, X_train_300, y_train_300, X_test, y_test)\n"
   ]
  },
  {
   "cell_type": "markdown",
   "metadata": {},
   "source": [
    "### Tabular Results\n",
    "Edit the cell below to see how a table can be designed in [Markdown](https://github.com/adam-p/markdown-here/wiki/Markdown-Cheatsheet#tables). You can record your results from above in the tables provided."
   ]
  },
  {
   "cell_type": "markdown",
   "metadata": {},
   "source": [
    "** Classifer 1 - SVM **  \n",
    "\n",
    "| Training Set Size | Training Time | Prediction Time (test) | F1 Score (train) | F1 Score (test) |\n",
    "| :---------------: | :---------------------: | :--------------------: | :--------------: | :-------------: |\n",
    "| 100               |  0.0014 seconds         |   0.0008      |   0.8591               |     0.7838            |\n",
    "| 200               |      0.0035          |       0.0025          |    0.8693         |      0.7755       |\n",
    "| 300               |      0.0079            |     0.0050             |   0.8692         |    0.7586      |\n",
    "\n",
    "** Classifer 2 - Decision Tree **  \n",
    "\n",
    "| Training Set Size | Training Time | Prediction Time (test) | F1 Score (train) | F1 Score (test) |\n",
    "| :---------------: | :---------------------: | :--------------------: | :--------------: | :-------------: |\n",
    "| 100               |      0.0014                   |   0.0002        |     1.0000      |     0.6491      |\n",
    "| 200               |     0.0016             |      0.0002         |     1.0000       |     0.7328      |\n",
    "| 300               |      0.0021           |       0.0003           |    1.0000       |     0.7458     |\n",
    "\n",
    "** Classifer 3 - GaussianNB **  \n",
    "\n",
    "| Training Set Size | Training Time | Prediction Time (test) | F1 Score (train) | F1 Score (test) |\n",
    "| :---------------: | :---------------------: | :--------------------: | :--------------: | :-------------: |\n",
    "| 100               |    0.0008            |      0.0003             |     0.8550      |     0.7481      |\n",
    "| 200               |    0.0008               |      0.0004            |   0.8321         |   0.7132       |\n",
    "| 300               |    0.0010               |      0.0007            |   0.8088         |   0.7500        |"
   ]
  },
  {
   "cell_type": "markdown",
   "metadata": {},
   "source": [
    "## Choosing the Best Model\n",
    "In this final section, you will choose from the three supervised learning models the *best* model to use on the student data. You will then perform a grid search optimization for the model over the entire training set (`X_train` and `y_train`) by tuning at least one parameter to improve upon the untuned model's F<sub>1</sub> score. "
   ]
  },
  {
   "cell_type": "markdown",
   "metadata": {},
   "source": [
    "### Question 3 - Choosing the Best Model\n",
    "*Based on the experiments you performed earlier, in one to two paragraphs, explain to the board of supervisors what single model you chose as the best model. Which model is generally the most appropriate based on the available data, limited resources, cost, and performance?*"
   ]
  },
  {
   "cell_type": "markdown",
   "metadata": {},
   "source": [
    "**Answer: **\n",
    "\n",
    "SVM performed the best. Even with relatively few data points (100) SVM outperformed the other two algorithms when using all of the available training data (300). SVM  took the longest to train and to predict (by an order of magnitude), but the actual run time difference is negligible. If this was intended for real-time prediction, run time could play a factor but in this scenario run time differences of this magnitude are completely irrelevent. \n",
    "\n",
    "Because SVM performed so well with limited data, future models may not require gather data from so many students (which could cut costs). Or efforts could be spent on collecting a greater variety of data points (like data related to sibling school performance for instance) rather than polling more individual students.\n",
    "\n",
    "SVM also has the capabilities to capture interactions between parameters, which is more representative of the complex factors at play that can determine the success of a student."
   ]
  },
  {
   "cell_type": "markdown",
   "metadata": {},
   "source": [
    "### Question 4 - Model in Layman's Terms\n",
    "*In one to two paragraphs, explain to the board of directors in layman's terms how the final model chosen is supposed to work. Be sure that you are describing the major qualities of the model, such as how the model is trained and how the model makes a prediction. Avoid using advanced mathematical or technical jargon, such as describing equations or discussing the algorithm implementation.*"
   ]
  },
  {
   "cell_type": "markdown",
   "metadata": {},
   "source": [
    "**Answer: **\n",
    "\n",
    "Support vector machines work by finding hidden divisions within data. Imagine if you were trying to teach a computer to recognize clouds in the sky. SVM would approach this problem by looking at each part of the sky and drawing a line to divide blue from white. You can imagine this process happening in two dimensions or three dimensions. For a problem as complex as this one, we use dozens of dimensions but the problem is still the same. We are trying to separate students who will pass vs. those that won't, and SVM helps us find the borders between them."
   ]
  },
  {
   "cell_type": "markdown",
   "metadata": {},
   "source": [
    "### Implementation: Model Tuning\n",
    "Fine tune the chosen model. Use grid search (`GridSearchCV`) with at least one important parameter tuned with at least 3 different values. You will need to use the entire training set for this. In the code cell below, you will need to implement the following:\n",
    "- Import [`sklearn.grid_search.gridSearchCV`](http://scikit-learn.org/stable/modules/generated/sklearn.grid_search.GridSearchCV.html) and [`sklearn.metrics.make_scorer`](http://scikit-learn.org/stable/modules/generated/sklearn.metrics.make_scorer.html).\n",
    "- Create a dictionary of parameters you wish to tune for the chosen model.\n",
    " - Example: `parameters = {'parameter' : [list of values]}`.\n",
    "- Initialize the classifier you've chosen and store it in `clf`.\n",
    "- Create the F<sub>1</sub> scoring function using `make_scorer` and store it in `f1_scorer`.\n",
    " - Set the `pos_label` parameter to the correct value!\n",
    "- Perform grid search on the classifier `clf` using `f1_scorer` as the scoring method, and store it in `grid_obj`.\n",
    "- Fit the grid search object to the training data (`X_train`, `y_train`), and store it in `grid_obj`."
   ]
  },
  {
   "cell_type": "code",
   "execution_count": 77,
   "metadata": {
    "collapsed": false
   },
   "outputs": [
    {
     "name": "stdout",
     "output_type": "stream",
     "text": [
      "Made predictions in 0.0054 seconds.\n",
      "Tuned model has a training F1 score of 0.9717.\n",
      "Made predictions in 0.0018 seconds.\n",
      "Tuned model has a testing F1 score of 0.7919.\n"
     ]
    }
   ],
   "source": [
    "# TODO: Import 'GridSearchCV' and 'make_scorer'\n",
    "\n",
    "import numpy as np\n",
    "import pandas as pd\n",
    "from sklearn.grid_search import GridSearchCV\n",
    "from sklearn.metrics import fbeta_score, make_scorer\n",
    "\n",
    "# TODO: Create the parameters list you wish to tune\n",
    "C_range = np.logspace(-2, 10, 13)\n",
    "gamma_range = np.logspace(-9, 3, 13)\n",
    "param_grid = dict(gamma=gamma_range, C=C_range)\n",
    "\n",
    "# TODO: Initialize the classifier\n",
    "clf = SVC()\n",
    "\n",
    "# TODO: Make an f1 scoring function using 'make_scorer' \n",
    "\n",
    "f1_scorer = make_scorer(fbeta_score, pos_label=\"yes\", beta=2)\n",
    "\n",
    "# TODO: Perform grid search on the classifier using the f1_scorer as the scoring method\n",
    "\n",
    "grid_obj = GridSearchCV(clf, param_grid = param_grid, scoring=f1_scorer)\n",
    "\n",
    "# TODO: Fit the grid search object to the training data and find the optimal parameters\n",
    "\n",
    "grid_obj = grid_obj.fit(X_train, y_train)\n",
    "\n",
    "# Get the estimator\n",
    "clf = grid_obj.best_estimator_\n",
    "\n",
    "# Report the final F1 score for training and testing after parameter tuning\n",
    "print \"Tuned model has a training F1 score of {:.4f}.\".format(predict_labels(clf, X_train, y_train))\n",
    "print \"Tuned model has a testing F1 score of {:.4f}.\".format(predict_labels(clf, X_test, y_test))"
   ]
  },
  {
   "cell_type": "markdown",
   "metadata": {},
   "source": [
    "### Question 5 - Final F<sub>1</sub> Score\n",
    "*What is the final model's F<sub>1</sub> score for training and testing? How does that score compare to the untuned model?*"
   ]
  },
  {
   "cell_type": "markdown",
   "metadata": {},
   "source": [
    "**Answer: **\n",
    "\n",
    "The final F1 score is 0.9717 for training and 0.79 testing, both of which are an improvement from the previous models."
   ]
  },
  {
   "cell_type": "markdown",
   "metadata": {},
   "source": [
    "> **Note**: Once you have completed all of the code implementations and successfully answered each question above, you may finalize your work by exporting the iPython Notebook as an HTML document. You can do this by using the menu above and navigating to  \n",
    "**File -> Download as -> HTML (.html)**. Include the finished document along with this notebook as your submission."
   ]
  }
 ],
 "metadata": {
  "kernelspec": {
   "display_name": "Python 2",
   "language": "python",
   "name": "python2"
  },
  "language_info": {
   "codemirror_mode": {
    "name": "ipython",
    "version": 2
   },
   "file_extension": ".py",
   "mimetype": "text/x-python",
   "name": "python",
   "nbconvert_exporter": "python",
   "pygments_lexer": "ipython2",
   "version": "2.7.12"
  }
 },
 "nbformat": 4,
 "nbformat_minor": 0
}
